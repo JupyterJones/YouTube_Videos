{
 "cells": [
  {
   "cell_type": "code",
   "execution_count": 10,
   "id": "d4d33b60",
   "metadata": {},
   "outputs": [
    {
     "name": "stdout",
     "output_type": "stream",
     "text": [
      "<function create at 0x7fad51943f70>\r\n"
     ]
    }
   ],
   "source": [
    "!FLASK -c ."
   ]
  },
  {
   "cell_type": "code",
   "execution_count": 9,
   "id": "04f028dc",
   "metadata": {},
   "outputs": [],
   "source": [
    "!rm notes.db"
   ]
  },
  {
   "cell_type": "code",
   "execution_count": 12,
   "id": "2bd3eaf9",
   "metadata": {},
   "outputs": [
    {
     "name": "stdout",
     "output_type": "stream",
     "text": [
      "\n",
      "POST VERIFIED:\n",
      " 1 \n",
      "# app.config Examples\n",
      "app.config['UPLOAD_FOLDER'] = 'static/images/uploads'\n",
      "app.config['RESULTS_FOLDER'] = 'static/videos/results'\n",
      "app.config['THUMBNAILS_FOLDER'] = 'static/images/thumbnails'\n",
      "app.config['CHECKPOINT_PATH'] = 'checkpoints/wav2lip_gan.pth'\n",
      "app.config['AUDIO_PATH'] = 'sample_data/input_audio.wav'\n",
      "app.config['video_PATH'] = 'sample_data/input_videio.mp4'\n",
      "app.config['DATABASE'] = 'notes.db'  # SQLite database file\n",
      "\n",
      "Thursday 08/10/23 15:54:55\n"
     ]
    },
    {
     "data": {
      "text/plain": [
       "\"\\n# app.config Examples\\napp.config['UPLOAD_FOLDER'] = 'static/images/uploads'\\napp.config['RESULTS_FOLDER'] = 'static/videos/results'\\napp.config['THUMBNAILS_FOLDER'] = 'static/images/thumbnails'\\napp.config['CHECKPOINT_PATH'] = 'checkpoints/wav2lip_gan.pth'\\napp.config['AUDIO_PATH'] = 'sample_data/input_audio.wav'\\napp.config['video_PATH'] = 'sample_data/input_videio.mp4'\\napp.config['DATABASE'] = 'notes.db'  # SQLite database file\\n\\nThursday 08/10/23 15:54:55\""
      ]
     },
     "execution_count": 12,
     "metadata": {},
     "output_type": "execute_result"
    }
   ],
   "source": [
    "import sys\n",
    "import sqlite3\n",
    "\n",
    "from datetime import datetime\n",
    "\n",
    "def insert(data):\n",
    "    conn = sqlite3.connect(\"notes.db\")\n",
    "    conn.text_factory = str\n",
    "    c = conn.cursor()\n",
    "    datef = datetime.now().strftime(\"%A %D %H:%M:%S\")\n",
    "    data = data+\"\\n\"+datef\n",
    "    c.execute(\"INSERT into PROJECT values (?)\", (data,))\n",
    "    for row in c.execute(\"SELECT ROWID,* FROM PROJECT ORDER BY ROWID DESC LIMIT 1\"):\n",
    "        print (\"\\nPOST VERIFIED:\\n\",row[0],row[1])\n",
    "    conn.commit()\n",
    "    conn.close()\n",
    "    return data\n",
    "\n",
    "\n",
    "data = \"\"\"\n",
    "# app.config Examples\n",
    "app.config['UPLOAD_FOLDER'] = 'static/images/uploads'\n",
    "app.config['RESULTS_FOLDER'] = 'static/videos/results'\n",
    "app.config['THUMBNAILS_FOLDER'] = 'static/images/thumbnails'\n",
    "app.config['CHECKPOINT_PATH'] = 'checkpoints/wav2lip_gan.pth'\n",
    "app.config['AUDIO_PATH'] = 'sample_data/input_audio.wav'\n",
    "app.config['video_PATH'] = 'sample_data/input_videio.mp4'\n",
    "app.config['DATABASE'] = 'notes.db'  # SQLite database file\n",
    "\"\"\"\n",
    "insert(data)"
   ]
  },
  {
   "cell_type": "code",
   "execution_count": 7,
   "id": "801b686c",
   "metadata": {},
   "outputs": [
    {
     "name": "stdout",
     "output_type": "stream",
     "text": [
      "\r\n",
      "INFO Found Here:\r\n",
      " 2 \r\n",
      "# app.config Examples\r\n",
      "app.config['UPLOAD_FOLDER'] = 'static/images/uploads'\r\n",
      "app.config['RESULTS_FOLDER'] = 'static/videos/results'\r\n",
      "app.config['THUMBNAILS_FOLDER'] = 'static/images/thumbnails'\r\n",
      "app.config['CHECKPOINT_PATH'] = 'checkpoints/wav2lip_gan.pth'\r\n",
      "app.config['AUDIO_PATH'] = 'sample_data/input_audio.wav'\r\n",
      "app.config['video_PATH'] = 'sample_data/input_videio.mp4'\r\n",
      "app.config['DATABASE'] = 'notes.db'  # SQLite database file\r\n",
      "\r\n",
      "Thursday 08/10/23 13:23:47\r\n",
      "_________________\r\n",
      "\r\n",
      "app.config Command Completed\r\n"
     ]
    }
   ],
   "source": [
    "!FLASK -s app.config ."
   ]
  },
  {
   "cell_type": "code",
   "execution_count": null,
   "id": "a1bebec2",
   "metadata": {},
   "outputs": [],
   "source": [
    "import sys\n",
    "import sqlite3\n",
    "\n",
    "from datetime import datetime\n",
    "@app.route('/searchdb', methods=['GET', 'POST'])\n",
    "def searchdb(data,conn=conn, c=c):\n",
    "    DATA =[]\n",
    "    conn = sqlite3.connect(\"notes.db\")\n",
    "    conn.text_factory = str\n",
    "    c = conn.cursor()\n",
    "    for row in c.execute(\"SELECT ROWID,* FROM PROJECT\"):\n",
    "        if data in row[1]:    \n",
    "            DATA.append(\"\\nINFO Found Here:\\n\",row[0],row[1])\n",
    "    return render_template('searchdb.html',DATA)        "
   ]
  },
  {
   "cell_type": "code",
   "execution_count": null,
   "id": "e2a790e4",
   "metadata": {},
   "outputs": [],
   "source": [
    "# %load FLASK\n",
    "#!/usr/bin/python3\n",
    "import sys\n",
    "import sqlite3\n",
    "conn = sqlite3.connect(\"notes.db\")\n",
    "from datetime import datetime\n",
    "conn.text_factory = str\n",
    "c = conn.cursor()\n",
    "if len(sys.argv) < 3:\n",
    "     print (\"\\n******* NOTE - Notes Editor **************\")\n",
    "     print (\"Not enough options were passed.\")     \n",
    "     print (\"NOTE requires 2 arguments. the first -H , -R , -I , -D or -S .\\nThe second can be a period.\")\n",
    "     print (\"If printing the database -T also add a filename of your choice ( no quotes required ):\")\n",
    "     print (\" Example: NOTE -T Data2Text.txt\")   \n",
    "     print (\"If wanting to read all entries use -R . (use the period)\") \n",
    "     print (\"even use the period with help.  -H .   must be entered.\")\n",
    "     print (\"******************************************\\n\")\n",
    "     sys.exit()\n",
    "mod = sys.argv[1]\n",
    "def create():\n",
    "\n",
    "    import sqlite3\n",
    "    conn = sqlite3.connect(\"notes.db\")\n",
    "    conn.text_factory = str\n",
    "    c = conn.cursor()\n",
    "    c.execute(\"CREATE VIRTUAL TABLE PROJECT using FTS4 (input)\")\n",
    "    conn.commit()\n",
    "    text = \"Database Created\"\n",
    "    return text\n",
    "\n",
    "def insert(data,conn=conn, c=c):\n",
    "    datef = datetime.now().strftime(\"%A %D %H:%M:%S\")\n",
    "    data = data+\"\\n\"+datef\n",
    "    c.execute(\"INSERT into PROJECT values (?)\", (data,))\n",
    "    for row in c.execute(\"SELECT ROWID,* FROM PROJECT ORDER BY ROWID DESC LIMIT 1\"):\n",
    "        print (\"\\nPOST VERIFIED:\\n\",row[0],row[1])\n",
    "    conn.commit()\n",
    "    conn.close()\n",
    "    return data\n",
    "\n",
    "def search(data,conn=conn, c=c):\n",
    "    #for row in c.execute(\"SELECT ROWID,* FROM PROJECT WHERE input MATCH ?\",(data,)):\n",
    "    #    print (\"\\nINFO Found Here:\",row[0],row[1])\n",
    "    for row in c.execute(\"SELECT ROWID,* FROM PROJECT\"):\n",
    "        if data in row[1]:    \n",
    "            print (\"\\nINFO Found Here:\\n\",row[0],row[1])\n",
    "    #conn.commit()\n",
    "    #conn.close()\n",
    "def delete(rowid,conn=conn, c=c):\n",
    "    c.execute(\"DELETE FROM PROJECT WHERE rowid = ?\", (rowid,))\n",
    "    conn.commit()\n",
    "    conn.close()\n",
    "    text = \"ROWID \"+rowid+\" Deleted\"\n",
    "    return text\n",
    "\n",
    "def main():\n",
    "    conn = sqlite3.connect(\"notes.db\")\n",
    "    conn.text_factory = str\n",
    "    c = conn.cursor()\n",
    "    for row in c.execute(\"SELECT rowid, * FROM PROJECT\"):\n",
    "        print (row[0],\": \",row[1])\n",
    "\n",
    "def prtmain(filename):\n",
    "    fn = open(filename, \"w\")\n",
    "    conn = sqlite3.connect(\"notes.db\")\n",
    "    conn.text_factory = str\n",
    "    c = conn.cursor()\n",
    "    for row in c.execute(\"SELECT rowid, * FROM PROJECT\"):\n",
    "        TEXT = \"id:\"+str(row[0])+\"\\n\"+str(row[1])\n",
    "        TEXT = str(TEXT)\n",
    "        TEXT = TEXT.replace('\\\\n','\\n')\n",
    "        TEXT = \"\".join(TEXT)\n",
    "        fn.write(TEXT+'\\n----\\n')\n",
    "\n",
    "def HELP():\n",
    "    TXT = \"\"\"\n",
    "    USE: NOTE argv[1] argv[2]\n",
    "    argv[1] sets the mod:\n",
    "    -I insert / -D delete / -R read / -H help\n",
    "    examples:\n",
    "    Notice the entry is in parenthese.\n",
    "    -I  to insert \"STUFF to be inserted\"\n",
    "    NOTE -I \"STUFF to be inserted\"\n",
    "    -D to delete where rowid is 3\n",
    "    NOTE -D 3\n",
    "    Notice the period after -R . \n",
    "    -R . read all\n",
    "    To search for the term \"current project\"\n",
    "    NOTE -S 3\n",
    "    -S \"current project\"\n",
    "    NOTE -R .\n",
    "    -H help on options\n",
    "    NOTE -H .\n",
    "    \"\"\"\n",
    "    print (TXT)\n",
    "\n",
    "if mod == \"-H\" or mod == \"h\":\n",
    "    HELP()        \n",
    "if mod == \"-R\" or mod == \"-r\":\n",
    "    main()\n",
    "if mod == \"-I\" or mod == \"-i\":\n",
    "    data = sys.argv[2]\n",
    "    insert(data)\n",
    "if mod == \"-D\" or mod == \"-d\":\n",
    "    rowid = sys.argv[2]\n",
    "    delete(rowid) \n",
    "if mod == \"-S\" or mod == \"-s\":\n",
    "    data = sys.argv[2]\n",
    "    search(data)       \n",
    "if mod == \"-T\":\n",
    "    filename = sys.argv[2]\n",
    "    prtmain(filename)\n",
    "if mod == \"-C\" or mod == \"-c\":\n",
    "    create()\n",
    "    print (create)\n",
    "else:\n",
    "    print (\"_________________\\n\")\n",
    "    print (sys.argv[2],\"Command Completed\")\n",
    "    \n"
   ]
  },
  {
   "cell_type": "code",
   "execution_count": null,
   "id": "74857334",
   "metadata": {},
   "outputs": [],
   "source": []
  }
 ],
 "metadata": {
  "kernelspec": {
   "display_name": "base",
   "language": "python",
   "name": "base"
  },
  "language_info": {
   "codemirror_mode": {
    "name": "ipython",
    "version": 3
   },
   "file_extension": ".py",
   "mimetype": "text/x-python",
   "name": "python",
   "nbconvert_exporter": "python",
   "pygments_lexer": "ipython3",
   "version": "3.9.12"
  }
 },
 "nbformat": 4,
 "nbformat_minor": 5
}
